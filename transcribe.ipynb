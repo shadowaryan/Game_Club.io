{
  "nbformat": 4,
  "nbformat_minor": 0,
  "metadata": {
    "colab": {
      "provenance": [],
      "authorship_tag": "ABX9TyMsuvYgk/vcdoAS2HwZKnOG",
      "include_colab_link": true
    },
    "kernelspec": {
      "name": "python3",
      "display_name": "Python 3"
    },
    "language_info": {
      "name": "python"
    }
  },
  "cells": [
    {
      "cell_type": "markdown",
      "metadata": {
        "id": "view-in-github",
        "colab_type": "text"
      },
      "source": [
        "<a href=\"https://colab.research.google.com/github/shadowaryan/Game_Club.io/blob/main/transcribe.ipynb\" target=\"_parent\"><img src=\"https://colab.research.google.com/assets/colab-badge.svg\" alt=\"Open In Colab\"/></a>"
      ]
    },
    {
      "cell_type": "code",
      "execution_count": null,
      "metadata": {
        "colab": {
          "base_uri": "https://localhost:8080/"
        },
        "id": "T6jp82oRgbwU",
        "outputId": "880fe8e4-fd3e-424b-bdb7-7d8c2b71225b"
      },
      "outputs": [
        {
          "output_type": "stream",
          "name": "stdout",
          "text": [
            "\u001b[K     |████████████████████████████████| 5.8 MB 3.9 MB/s \n",
            "\u001b[K     |████████████████████████████████| 182 kB 45.6 MB/s \n",
            "\u001b[K     |████████████████████████████████| 7.6 MB 44.4 MB/s \n",
            "\u001b[?25h  Building wheel for whisper (setup.py) ... \u001b[?25l\u001b[?25hdone\n"
          ]
        }
      ],
      "source": [
        "! pip install git+https://github.com/openai/whisper.git -q"
      ]
    },
    {
      "cell_type": "code",
      "source": [
        "! pip install pytube\n"
      ],
      "metadata": {
        "colab": {
          "base_uri": "https://localhost:8080/"
        },
        "id": "ZvdVtywhhC6k",
        "outputId": "e839fe0f-b251-4b37-df4c-6400aa9af00c"
      },
      "execution_count": null,
      "outputs": [
        {
          "output_type": "stream",
          "name": "stdout",
          "text": [
            "Looking in indexes: https://pypi.org/simple, https://us-python.pkg.dev/colab-wheels/public/simple/\n",
            "Collecting pytube\n",
            "  Downloading pytube-12.1.2-py3-none-any.whl (57 kB)\n",
            "\u001b[K     |████████████████████████████████| 57 kB 2.4 MB/s \n",
            "\u001b[?25hInstalling collected packages: pytube\n",
            "Successfully installed pytube-12.1.2\n"
          ]
        }
      ]
    },
    {
      "cell_type": "code",
      "source": [
        "from pytube import YouTube\n",
        "import whisper\n"
      ],
      "metadata": {
        "id": "xlBVSxVNh7OR"
      },
      "execution_count": null,
      "outputs": []
    },
    {
      "cell_type": "code",
      "source": [
        "yt = YouTube('https://youtube.com/watch?v=MmC-x1NusYU&feature=shares')\n",
        "\n",
        "video_audio = yt.streams.filter(only_audio=True)\n",
        "\n",
        "audio = video_audio.first().download()"
      ],
      "metadata": {
        "id": "4fxVzNyAiDaE"
      },
      "execution_count": null,
      "outputs": []
    },
    {
      "cell_type": "code",
      "source": [
        "model = whisper.load_model(\"base\")\n",
        "result = model.transcribe(audio)\n",
        "print(result[\"text\"])"
      ],
      "metadata": {
        "colab": {
          "base_uri": "https://localhost:8080/"
        },
        "id": "r1tHc2EmlkhO",
        "outputId": "61b45230-31d2-4b24-a66b-3656dd219c83"
      },
      "execution_count": null,
      "outputs": [
        {
          "output_type": "stream",
          "name": "stderr",
          "text": [
            "100%|███████████████████████████████████████| 139M/139M [00:03<00:00, 45.4MiB/s]\n",
            "/usr/local/lib/python3.8/dist-packages/whisper/transcribe.py:78: UserWarning: FP16 is not supported on CPU; using FP32 instead\n",
            "  warnings.warn(\"FP16 is not supported on CPU; using FP32 instead\")\n"
          ]
        },
        {
          "output_type": "stream",
          "name": "stdout",
          "text": [
            " Welcome guys! In this video I will give you 20 amazing tips and tricks that you need to know and they may help you. So let's get started! Moving Vehicle Seat Swap! When you see an enemy while you're driving vehicle, you can swap your seat and star shooting. By doing this, you may lose some of your critical accuracy, but it's still better than jumping from a moving vehicle and losing 80% of health. You may need to be careful while doing this because your vehicle will hit the brake when you swap seats and eventually stops moving, which makes easier for enemies to kill you. So it's better to get down from the vehicle and find a cover. Speaking of cover, you can use your vehicle as cover in some situations. But there's a gap between tires from this gap you can get shots, so it's better to burst the tires and use the vehicle as cover. Now I think you might be safe from getting shots from below the vehicle. This vehicle is still usable, but not as fast as before. And also this depends on vehicles. Make sure you only burst two tires on the same side or it might be tough for you to travel. Or sometimes you don't need to burst the tires, it depends on the situation. You can kill people by shooting from below the object, like a fake car in boot camp, or in military base bridge and many more. This trick works only when legs are visible. So yeah, you should be careful while camping behind objects like these. Do you know that painkillers wait the same amount as the first aid kit in your backpack? Do you think the first aid kit will be much heavier? But the painkiller is quite heavy in your bag. Painkiller is worse boost item in my opinion because it takes up a lot of space in your bag and extremely long to use and also not very efficient. I recommend carrying energy drinks because you can take two energy drinks and it doesn't take as much space in your bag as a painkiller and gives you a little bit more boost than a single painkiller. There are actually two ways of crossing this river near a boot camp, one is from water and another one is using a bridge. You can cross this river by swimming underwater, speaking of underwater you can stay up to 18 to 20 seconds underwater and sometimes you can make it without losing health, sometimes you may lose some health. So swimming underwater is safe and harder for enemies to spot you in water. If you get knocked in the water you'll die instantly, so be careful while traveling from water or while crossing rivers. There is a jump near a boot camp that you can easily do with a bike but with a scooter, maybe you can make halfway through and swim. If you ever made this jump with scooter, then let me know in comments. Most people don't like using a bike because it can easily get flipped but the bike is the fastest vehicle and also a less secured vehicle. You can balance the bike with those up-down controls, so in case if you ever need to use bike use those to control or balance the bike from getting flipped, just like in hill climb racing. Moving while healing is extremely helpful, I think most players know this by now. If you played for more than one season you will get used to moving while healing, it just saves your life if any shots are coming in and make it hard for enemies to shoot at you. And the next tip is for gyroscope players only. Having a different sensitivity for sniping and spraying is really helpful. Change your sensitivity when you want to snip and change it back to normal after. This may be hard at starting, but you'll get used to it. If a bike is about game mechanics, your right peak actually exposes less of your body, then left peak does. It's basically the way the character model works, left peak is going to reveal more of your body means bigger hitbox and more chances of getting hit than if you right peak. And also right peak gives you more field of view, then left peak. You're not saying that never use left peak in certain cases you should do it because it's the only choice, but keep in mind your body exposes a lot when you left peak. Do yourself a favor by having the same weapons in the same slot every time? Let's say you're carrying M4 and a sniper and you have M4 and slot 1 and sniper and slot 2. In that way whenever you want to snipe someone, you will know sniper is in slot 2 and also it gives you muscle memory to understand easier. Whenever you want to spray down enemies from 100 meters or higher, try to use crouch and spray. By crouching your recoil will be reduced a little bit and increases your accuracy. So try to crouch more often to get used to doing it regularly. And if you can't able to control recoil and enemy is so far, then you prone and start shooting, by using prone, your recoil will be reduced almost half, I think so, and it will be harder for enemies to shoot back at you because of smaller hitbox. And maybe sometimes crouching and pruning might be useful in the close range too. You can easily survive all of the zones up to above 5, that's when you should probably think about getting in but when you get stuck in the gun fights in zones like 2, 3 or maybe 4, it's not a good idea of fighting in the blue zone, but with enough health kits and full boost, you can definitely outlive your opponents, there are gonna move or they gonna die under the blue zone. And you could stay safe or at least alive, but by 5th zone, you should be getting in. Whenever you are trying to do the third party to someone, if you see someone not just confirm those kills, you'll get those kills, not the enemy who not them, it's like stealing kills, but worth it because you are getting free kills by stealing their kills. Cooking those nades is probably one of the most important things to learn, however, you want to learn it either going training grounds or count in your head and getting lucky, if I start throwing nades behind that house, those guys will have plenty of time to get away, however, if I cook it perfectly, and this guy will die and not stand a chance of getting out. So do yourself a favor by getting really good at cooking these nades because they make you a better player. And next thing is pre-fire, pre-fire plays an important role whenever you want to push, do it with a pre-fire it always helps and do it more often to get good at it. The more you play the more common hiding spots you know. If you have intel on someone's position you should pre-fire obviously since you are already putting shots down range and the person is still reacting. On defense pre-fire as well, when attackers try to push an object it will make them hesitate or slow down and cancel out their peeker's advantage. If you don't have intel of someone being in a room but you are still clearing it, just quick peek the room look for someone, and if you do see someone pre-fire on the re-peak. Otherwise, just quick peek and pre-aim every angle as you go. I wouldn't worry too much about giving away your position since most people know what's going on without having confirmed intel. Most people check everything anyways. Having more than three smoke grenades will definitely help you in the final circle. When you want to loot a crate during an open battlefield, use smokes. When you want to rush into a building from open ground, use smokes. When you want to make enemies full with a fake grenade, use smokes. So here in my case, I'm rushing in the open field and I use few smokes to give me good a cover and distract them. Try to use the highest sound settings for headphones or earphones, which makes easier for you to listen to enemies footsteps and locate them easily. Gun sounds will be loud at starting, but if you keep on playing on highest sound settings you'll get used to it. And finally having a great game sense, for example, some people who are new to the game will prone in the grass, thinking that they are safe and covered up by all the grass, well they don't understand that grass only renders about few hunters of meters, so my enemy is almost 100 meters away. And he thinks that proning in the grass is safe, but from my angle, I cannot see any grass because it does not render that far. So how to improve your game sense? Well by playing and understanding how game works, the more time you spend on the game, will increase your game sense, and also try to watch some e-sports, which will give you some more details about game sense, and how pro players play. So yeah, that's it for this video. Thank you for watching this far, if you learned something new hit that like button and share this video with your friends, and comment down your favorite tips and trick. And we just crossed 50,000 subscribers, thank you for your support. See you guys in the next video. Bye bye. Bye bye.\n"
          ]
        }
      ]
    },
    {
      "cell_type": "code",
      "source": [],
      "metadata": {
        "id": "WEvpVNezpH3r"
      },
      "execution_count": null,
      "outputs": []
    }
  ]
}